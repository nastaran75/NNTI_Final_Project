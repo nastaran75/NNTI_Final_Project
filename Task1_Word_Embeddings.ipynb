{
 "cells": [
  {
   "cell_type": "markdown",
   "metadata": {
    "id": "_VZXi_KGi0UR"
   },
   "source": [
    "# Task 1: Word Embeddings (10 points)\n",
    "\n",
    "This notebook will guide you through all steps necessary to train a word2vec model (Detailed description in the PDF)."
   ]
  },
  {
   "cell_type": "markdown",
   "metadata": {
    "id": "48t-II1vkuau"
   },
   "source": [
    "## Imports\n",
    "\n",
    "This code block is reserved for your imports. \n",
    "\n",
    "You are free to use the following packages: \n",
    "\n",
    "(List of packages)"
   ]
  },
  {
   "cell_type": "code",
   "execution_count": 14,
   "metadata": {
    "id": "4kh6nh84-AOL"
   },
   "outputs": [],
   "source": [
    "# Imports\n",
    "import numpy as np\n",
    "import csv\n",
    "import torch\n",
    "from utils import *\n",
    "device = torch.device(\"cuda:0\" if torch.cuda.is_available() else \"cpu\")"
   ]
  },
  {
   "cell_type": "markdown",
   "metadata": {
    "id": "NWmk3hVllEcU"
   },
   "source": [
    "# 1.1 Get the data (0.5 points)\n",
    "\n",
    "The Hindi portion HASOC corpus from [github.io](https://hasocfire.github.io/hasoc/2019/dataset.html) is already available in the repo, at data/hindi_hatespeech.tsv . Load it into a data structure of your choice. Then, split off a small part of the corpus as a development set (~100 data points).\n",
    "\n",
    "If you are using Colab the first two lines will let you upload folders or files from your local file system."
   ]
  },
  {
   "cell_type": "code",
   "execution_count": 15,
   "metadata": {
    "id": "XtI7DJ-0-AOP"
   },
   "outputs": [],
   "source": [
    "#TODO: implement!\n",
    "\n",
    "#from google.colab import files\n",
    "#uploaded = files.upload()\n",
    "\n",
    "\n",
    "data = open('data/hindi_hatespeech.tsv')\n",
    "data = csv.reader(data,delimiter='\\t')\n",
    "tweets = [line for line in data][:1000]"
   ]
  },
  {
   "cell_type": "markdown",
   "metadata": {
    "id": "D-mSJ8nUlupB"
   },
   "source": [
    "## 1.2 Data preparation (0.5 + 0.5 points)\n",
    "\n",
    "* Prepare the data by removing everything that does not contain information. \n",
    "User names (starting with '@') and punctuation symbols clearly do not convey information, but we also want to get rid of so-called [stopwords](https://en.wikipedia.org/wiki/Stop_word), i. e. words that have little to no semantic content (and, but, yes, the...). Hindi stopwords can be found [here](https://github.com/stopwords-iso/stopwords-hi/blob/master/stopwords-hi.txt) Then, standardize the spelling by lowercasing all words.\n",
    "Do this for the development section of the corpus for now.\n",
    "\n",
    "* What about hashtags (starting with '#') and emojis? Should they be removed too? Justify your answer in the report, and explain how you accounted for this in your implementation."
   ]
  },
  {
   "cell_type": "code",
   "execution_count": 16,
   "metadata": {
    "id": "CHcNeyKi-AOQ"
   },
   "outputs": [],
   "source": [
    "#TODO: implement!\n",
    "stopwords = [line[:-2] for line in open('stopwords')]\n",
    "\n",
    "def valid(word):\n",
    "    if word.startswith('@') or word.startswith('(@') or word.startswith('.@'):\n",
    "        return False\n",
    "    if word in [',',';',':','.','!','?','\\'','\\\"\"','-','_','/','(',')','[',']','...','*']:\n",
    "        return False\n",
    "    if word in stopwords:\n",
    "        return False\n",
    "    if word.startswith('http'):\n",
    "        return False\n",
    "    return True\n",
    "\n",
    "new_tweets = []\n",
    "labels = []\n",
    "for i,tweet in enumerate(tweets):    \n",
    "    if i==0:\n",
    "        continue\n",
    "    if tweet[2] == 'HOF':\n",
    "        labels.append(1)\n",
    "    else:\n",
    "        labels.append(0)\n",
    "    new_sentence = []\n",
    "    for word in tweet[1].split():\n",
    "#         print(word)\n",
    "        if valid(word):\n",
    "            new_sentence.append(word.lower())\n",
    "#                 print(word)\n",
    "    new_tweets.append(new_sentence)"
   ]
  },
  {
   "cell_type": "markdown",
   "metadata": {
    "id": "Je09nozLmmMm"
   },
   "source": [
    "## 1.3 Build the vocabulary (0.5 + 0.5 points)\n",
    "\n",
    "The input to the first layer of word2vec is an one-hot encoding of the current word. The output od the model is then compared to a numeric class label of the words within the size of the skip-gram window. Now\n",
    "\n",
    "* Compile a list of all words in the development section of your corpus and save it in a variable ```V```."
   ]
  },
  {
   "cell_type": "code",
   "execution_count": 17,
   "metadata": {
    "id": "VpoGmTKx-AOQ"
   },
   "outputs": [
    {
     "name": "stdout",
     "output_type": "stream",
     "text": [
      "['बांग्लादेश', 'की', 'शानदार', 'वापसी,', 'भारत', '314', 'रन', 'पर', 'रोका', '#indvban', '#cwc19', 'सब', 'रंडी', 'नाच', 'देखने', 'व्यस्त', 'जैसे', 'ही', 'कोई', '#शांतीदूत', 'के', 'साथ', 'कुछ', 'होगा', '#रंडीरोना', 'शुरू', 'कर', 'देंगे', 'तुम', 'हरामियों', 'लिए', 'बस', 'जूतों', 'कमी', 'शुक्र', 'अभी', 'तुम्हारी', 'लिंचिंग', 'हुई', 'नहीं', 'हिंदुओं', 'जागने', 'देर', 'सच', 'में', 'होगी', 'तो', 'हरामी', 'सुवर', 'ड्रामा', 'बनाएं', 'कहीं', 'का', 'मौलाना।', 'कुत्ते', 'मौत', 'मारना', 'चाहिए', 'जैसी', 'शक्ल', 'औलाद', '।।।।', 'बीजेपी', 'mla', 'आकाश', 'विजयवर्गीय', 'जेल', 'से', 'रिहा,', 'जमानत', 'मिलने', 'खुशी', 'एक', 'समर्थक', 'ने', 'इंदौर', 'हर्ष', 'फायरिंग', '#akashvijayvargiya', '…', 'चमकी', 'बुखार:', 'विधानसभा', 'परिसर', 'आरजेडी', 'प्रदर्शन,', 'तेजस्वी', 'यादव', 'नदारद', '#biharencephalitisdeaths', '(रिपोर्ट-', 'मुंबई', 'बारिश', 'लोगों', 'काफी', 'समस्या', 'रही', \"ahmed's\", 'dad:--', 'beta']\n"
     ]
    }
   ],
   "source": [
    "#TODO: implement!\n",
    "word_dict = {}\n",
    "all_words = []\n",
    "for tweet in new_tweets:\n",
    "    for word in tweet:\n",
    "        if not word in word_dict.keys():\n",
    "            all_words.append(word)\n",
    "            word_dict[word] = 1\n",
    "        else:\n",
    "            word_dict[word] += 1\n",
    "V = all_words\n",
    "print(V[:100])"
   ]
  },
  {
   "cell_type": "markdown",
   "metadata": {
    "id": "WiaVglVNoENY"
   },
   "source": [
    "* Then, write a function ```word_to_one_hot``` that returns a one-hot encoding of an arbitrary word in the vocabulary. The size of the one-hot encoding should be ```len(v)```."
   ]
  },
  {
   "cell_type": "code",
   "execution_count": 18,
   "metadata": {
    "id": "yqPNw6IT-AOQ"
   },
   "outputs": [],
   "source": [
    "#TODO: implement!\n",
    "def word_to_one_hot(word):\n",
    "    one_hot = np.zeros(len(V))\n",
    "    for i,w in enumerate(V):\n",
    "        if word == w:\n",
    "            one_hot[i] = 1\n",
    "            break\n",
    "    assert(np.sum(one_hot)==1)        \n",
    "    return one_hot"
   ]
  },
  {
   "cell_type": "markdown",
   "metadata": {
    "id": "gKD8zBlxVclh"
   },
   "source": [
    "## 1.4 Subsampling (0.5 points)\n",
    "\n",
    "The probability to keep a word in a context is given by:\n",
    "\n",
    "$P_{keep}(w_i) = \\Big(\\sqrt{\\frac{z(w_i)}{0.001}}+1\\Big) \\cdot \\frac{0.001}{z(w_i)}$\n",
    "\n",
    "Where $z(w_i)$ is the relative frequency of the word $w_i$ in the corpus. Now,\n",
    "* Calculate word frequencies\n",
    "* Define a function ```sampling_prob``` that takes a word (string) as input and returns the probabiliy to **keep** the word in a context."
   ]
  },
  {
   "cell_type": "code",
   "execution_count": 19,
   "metadata": {
    "id": "Mj4sDOVMMr0b"
   },
   "outputs": [],
   "source": [
    "#TODO: implement!\n",
    "#word_dict calculated above\n",
    "import math\n",
    "Z = word_dict\n",
    "# print(Z)\n",
    "def sampling_prob(word):\n",
    "    return (math.sqrt(Z[word]/0.001) + 1) * (0.001/Z[word])\n"
   ]
  },
  {
   "cell_type": "markdown",
   "metadata": {
    "id": "kxV1P90zplxu"
   },
   "source": [
    "# 1.5 Skip-Grams (1 point)\n",
    "\n",
    "Now that you have the vocabulary and one-hot encodings at hand, you can start to do the actual work. The skip gram model requires training data of the shape ```(current_word, context)```, with ```context``` being the words before and/or after ```current_word``` within ```window_size```. \n",
    "\n",
    "* Have closer look on the original paper. If you feel to understand how skip-gram works, implement a function ```get_target_context``` that takes a sentence as input and [yield](https://docs.python.org/3.9/reference/simple_stmts.html#the-yield-statement)s a ```(current_word, context)```.\n",
    "\n",
    "* Use your ```sampling_prob``` function to drop words from contexts as you sample them. "
   ]
  },
  {
   "cell_type": "code",
   "execution_count": 20,
   "metadata": {
    "id": "r8CCTpVy-AOR"
   },
   "outputs": [],
   "source": [
    "#TODO: implement!\n",
    "def get_target_context(sentence):\n",
    "    context_array = []\n",
    "    for i,word in enumerate(sentence):\n",
    "        for w in range(-window_size,window_size+1):\n",
    "            context_idx = i + w\n",
    "            if context_idx<0 or context_idx>=len(sentence) or context_idx==i:\n",
    "                continue\n",
    "            keep = np.random.choice(2,1,p=[1.0-sampling_prob(word),sampling_prob(word)])\n",
    "            if keep:\n",
    "                context_array.append((word,sentence[context_idx]))\n",
    "    return context_array\n",
    "    "
   ]
  },
  {
   "cell_type": "markdown",
   "metadata": {
    "id": "gfEFgtkmuDjL"
   },
   "source": [
    "# 1.6 Hyperparameters (0.5 points)\n",
    "\n",
    "According to the word2vec paper, what would be a good choice for the following hyperparameters? \n",
    "\n",
    "* Embedding dimension\n",
    "* Window size\n",
    "\n",
    "Initialize them in a dictionary or as independent variables in the code block below. "
   ]
  },
  {
   "cell_type": "code",
   "execution_count": 21,
   "metadata": {
    "id": "d7xSKuFJcYoD"
   },
   "outputs": [],
   "source": [
    "# Set hyperparameters\n",
    "window_size = 5\n",
    "embedding_size =  300\n",
    "\n",
    "# More hyperparameters\n",
    "learning_rate = 0.005\n",
    "epochs = 40"
   ]
  },
  {
   "cell_type": "markdown",
   "metadata": {
    "id": "xiM2zq-YunPx"
   },
   "source": [
    "# 1.7 Pytorch Module (0.5 + 0.5 + 0.5 points)\n",
    "\n",
    "Pytorch provides a wrapper for your fancy and super-complex models: [torch.nn.Module](https://pytorch.org/docs/stable/generated/torch.nn.Module.html). The code block below contains a skeleton for such a wrapper. Now,\n",
    "\n",
    "* Initialize the two weight matrices of word2vec as fields of the class.\n",
    "\n",
    "* Override the ```forward``` method of this class. It should take a one-hot encoding as input, perform the matrix multiplications, and finally apply a log softmax on the output layer.\n",
    "\n",
    "* Initialize the model and save its weights in a variable. The Pytorch documentation will tell you how to do that."
   ]
  },
  {
   "cell_type": "code",
   "execution_count": 22,
   "metadata": {
    "colab": {
     "base_uri": "https://localhost:8080/"
    },
    "id": "D9sGNytYhwxS",
    "outputId": "41645b64-e4ed-4e6a-e10f-74cb39b92230"
   },
   "outputs": [],
   "source": [
    "# Create model \n",
    "import torch.nn as nn\n",
    "\n",
    "class Word2Vec(nn.Module):\n",
    "  def __init__(self):\n",
    "    super().__init__()\n",
    "    self.hidden_1 = nn.Linear(len(V),embedding_size)\n",
    "    self.hidden_2 = nn.Linear(embedding_size,len(V))\n",
    "    self.logsoftmax = nn.LogSoftmax()\n",
    "\n",
    "\n",
    "  def forward(self, one_hot):\n",
    "    out = self.hidden_1(one_hot)\n",
    "    out = self.hidden_2(out)\n",
    "    out = self.logsoftmax(out)\n",
    "    return out\n"
   ]
  },
  {
   "cell_type": "markdown",
   "metadata": {
    "id": "XefIDMMHv5zJ"
   },
   "source": [
    "# 1.8 Loss function and optimizer (0.5 points)\n",
    "\n",
    "Initialize variables with [optimizer](https://pytorch.org/docs/stable/optim.html#module-torch.optim) and loss function. You can take what is used in the word2vec paper, but you can use alternative optimizers/loss functions if you explain your choice in the report."
   ]
  },
  {
   "cell_type": "code",
   "execution_count": 23,
   "metadata": {
    "id": "V9-Ino-e29w3"
   },
   "outputs": [],
   "source": [
    "# Define optimizer and loss\n",
    "import torch\n",
    "my_model = Word2Vec()\n",
    "optimizer = torch.optim.Adam(my_model.parameters(),lr = learning_rate)\n",
    "criterion = nn.NLLLoss()"
   ]
  },
  {
   "cell_type": "markdown",
   "metadata": {
    "id": "ckTfK78Ew8wI"
   },
   "source": [
    "# 1.9 Training the model (3 points)\n",
    "\n",
    "As everything is prepared, implement a training loop that performs several passes of the data set through the model. You are free to do this as you please, but your code should:\n",
    "\n",
    "* Load the weights saved in 1.6 at the start of every execution of the code block\n",
    "* Print the accumulated loss at least after every epoch (the accumulate loss should be reset after every epoch)\n",
    "* Define a criterion for the training procedure to terminate if a certain loss value is reached. You can find the threshold by observing the loss for the development set.\n",
    "\n",
    "You can play around with the number of epochs and the learning rate."
   ]
  },
  {
   "cell_type": "code",
   "execution_count": 24,
   "metadata": {
    "id": "LbMGD5L0mLDx"
   },
   "outputs": [
    {
     "name": "stdout",
     "output_type": "stream",
     "text": [
      "Training started\n"
     ]
    },
    {
     "name": "stderr",
     "output_type": "stream",
     "text": [
      "<ipython-input-22-04d4db84baf4>:15: UserWarning: Implicit dimension choice for log_softmax has been deprecated. Change the call to include dim=X as an argument.\n",
      "  out = self.logsoftmax(out)\n"
     ]
    },
    {
     "name": "stdout",
     "output_type": "stream",
     "text": [
      "0 8.501008082409294\n",
      "1 6.858151465046163\n",
      "2 6.294976292824258\n",
      "3 5.246906241592096\n",
      "4 3.6767529516803976\n",
      "5 2.1689876768053793\n",
      "6 1.2419158749434414\n",
      "7 0.7009692836780937\n",
      "8 0.5832336319952595\n",
      "9 0.5681822762197378\n",
      "10 0.5617760328613982\n",
      "11 0.5702095871068993\n",
      "12 0.5486184352514695\n",
      "13 0.538414004505897\n",
      "14 0.5193635438169751\n",
      "15 0.5136290070961933\n",
      "16 0.5035092423156816\n",
      "17 0.504060337738115\n",
      "18 0.4960828076819984\n",
      "19 0.5003537870183283\n",
      "20 0.4886286337764896\n",
      "21 0.491753095874981\n",
      "22 0.48442058417261863\n",
      "23 0.4880273986835869\n",
      "24 0.4780479730391989\n",
      "25 0.48156754094727183\n",
      "26 0.47396582608320276\n",
      "27 0.4786185573558418\n",
      "28 0.47039735499693425\n",
      "29 0.4743147930320428\n",
      "30 0.46921253082703573\n",
      "31 0.47409287703280545\n",
      "32 0.46664267900038736\n",
      "33 0.4675183405681532\n",
      "34 0.4632087465451688\n",
      "35 0.4671417061163455\n",
      "36 0.462479435059489\n",
      "37 0.46266262324488894\n",
      "38 0.45997616101284416\n",
      "39 0.4615138434633917\n",
      "Training finished\n"
     ]
    }
   ],
   "source": [
    "# Define train procedure\n",
    "\n",
    "# load initial weights\n",
    "\n",
    "def train():\n",
    "    print(\"Training started\")\n",
    "    X = []\n",
    "    Y = []\n",
    "    for sentence in new_tweets:\n",
    "        for tuples in get_target_context(sentence):\n",
    "            X.append(word_to_one_hot(tuples[0]))\n",
    "            Y.append(int(np.where(word_to_one_hot(tuples[1])==1)[0][0]))\n",
    "\n",
    "    batch_size = 64\n",
    "    num_batches = int(len(X)/batch_size)\n",
    "    for epoch in range(epochs):\n",
    "        epoch_loss = 0\n",
    "        for i in range(num_batches):\n",
    "            X_batch = torch.tensor(X[i*batch_size:(i+1)*batch_size]).float().to(device)\n",
    "            Y_batch = torch.tensor(Y[i*batch_size:(i+1)*batch_size]).to(device)\n",
    "            optimizer.zero_grad()\n",
    "            loss = criterion(my_model(X_batch),Y_batch)\n",
    "            loss.backward()\n",
    "            optimizer.step()\n",
    "            epoch_loss += float(loss)\n",
    "        print(str(epoch),float(epoch_loss/num_batches))\n",
    "\n",
    "train()\n",
    "\n",
    "print(\"Training finished\")"
   ]
  },
  {
   "cell_type": "markdown",
   "metadata": {
    "id": "BgQkaYstyj0Q"
   },
   "source": [
    "# 1.10 Train on the full dataset (0.5 points)\n",
    "\n",
    "Now, go back to 1.1 and remove the restriction on the number of sentences in your corpus. Then, reexecute code blocks 1.2, 1.3 and 1.6 (or those relevant if you created additional ones). \n",
    "\n",
    "* Then, retrain your model on the complete dataset.\n",
    "\n",
    "* Now, the input weights of the model contain the desired word embeddings! Save them together with the corresponding vocabulary items (Pytorch provides a nice [functionality](https://pytorch.org/tutorials/beginner/saving_loading_models.html) for this)."
   ]
  },
  {
   "cell_type": "code",
   "execution_count": 25,
   "metadata": {
    "id": "4x8hQP_bg4_g"
   },
   "outputs": [
    {
     "name": "stdout",
     "output_type": "stream",
     "text": [
      "hidden_1.weight \t torch.Size([300, 8144])\n",
      "hidden_1.bias \t torch.Size([300])\n",
      "hidden_2.weight \t torch.Size([8144, 300])\n",
      "hidden_2.bias \t torch.Size([8144])\n"
     ]
    }
   ],
   "source": [
    "# since when I load all the data I get the \"dead kernel\" in jupyter notebook and \n",
    "#I could not use gpu servers while using jupyter, I extracted this code as normal\n",
    "#python file and there ran on all the data, please check Task1_Word_Embeddings.py\n",
    "for param_tensor in my_model.state_dict():\n",
    "    print(param_tensor, \"\\t\", my_model.state_dict()[param_tensor].size())\n",
    "torch.save(my_model.state_dict(),'hindi_embeddings_model')\n",
    "\n",
    "data = {}\n",
    "data['tweets'] = new_tweets\n",
    "data['Y'] = np.array(labels)\n",
    "data['all_words'] = np.array(V)\n",
    "save_data(data,'hindi_tweets')"
   ]
  }
 ],
 "metadata": {
  "accelerator": "GPU",
  "colab": {
   "collapsed_sections": [],
   "name": "NNTI_final_project_task_1.ipynb",
   "provenance": []
  },
  "kernelspec": {
   "display_name": "Python 3",
   "language": "python",
   "name": "python3"
  },
  "language_info": {
   "codemirror_mode": {
    "name": "ipython",
    "version": 3
   },
   "file_extension": ".py",
   "mimetype": "text/x-python",
   "name": "python",
   "nbconvert_exporter": "python",
   "pygments_lexer": "ipython3",
   "version": "3.8.5"
  }
 },
 "nbformat": 4,
 "nbformat_minor": 1
}
